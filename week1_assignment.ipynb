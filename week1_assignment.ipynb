{
 "cells": [
  {
   "cell_type": "markdown",
   "id": "1cf839cf-909d-4b91-b2ef-9eb4192bde2c",
   "metadata": {},
   "source": [
    "Q1. Create one variable containing following type of data:\n",
    "(i) string\n",
    "(ii) list\n",
    "(iii) float\n",
    "(iv) tuple"
   ]
  },
  {
   "cell_type": "code",
   "execution_count": 2,
   "id": "e1ccce85-6480-47fa-a71e-12e9c5c2bb99",
   "metadata": {},
   "outputs": [],
   "source": [
    "a = \"Vaishnavi\"\n",
    "b = ['Vaishnavi','Sumit','Raksha',1,2,3,4,True,52.25]\n",
    "c = 2.2\n",
    "d = ('vaish','Raksha',1,2,3,4,True,52.25)"
   ]
  },
  {
   "cell_type": "code",
   "execution_count": 8,
   "id": "34887867-ba6d-485d-bccf-5d9dd96a11b9",
   "metadata": {},
   "outputs": [
    {
     "name": "stdout",
     "output_type": "stream",
     "text": [
      "String is :  Vaishnavi\n",
      "List is : ['Vaishnavi', 'Sumit', 'Raksha', 1, 2, 3, 4, True, 52.25]\n",
      "Float is : 2.2\n",
      "Tuple is: ('vaish', 'Raksha', 1, 2, 3, 4, True, 52.25)\n"
     ]
    }
   ],
   "source": [
    "print(\"String is : \",a)\n",
    "print(\"List is :\",b)\n",
    "print(\"Float is :\",c)\n",
    "print(\"Tuple is:\",d)"
   ]
  },
  {
   "cell_type": "markdown",
   "id": "fa70b12e-7c0a-4bc3-a711-07286a6dae5b",
   "metadata": {},
   "source": [
    "Q2. Given are some following variables containing data:\n",
    "(i) var1 = ‘ ‘\n",
    "(ii) var2 = ‘[ DS , ML , Python]’\n",
    "(iii) var3 = [ ‘DS’ , ’ML’ , ‘Python’ ]\n",
    "(iv) var4 = 1.\n",
    "What will be the data type of the above given variable."
   ]
  },
  {
   "cell_type": "code",
   "execution_count": 11,
   "id": "68178733-a6fd-419e-bcce-334550a57ac0",
   "metadata": {},
   "outputs": [
    {
     "data": {
      "text/plain": [
       "float"
      ]
     },
     "execution_count": 11,
     "metadata": {},
     "output_type": "execute_result"
    }
   ],
   "source": [
    "var1 = ' '\n",
    "type(var1)"
   ]
  },
  {
   "cell_type": "code",
   "execution_count": 13,
   "id": "f7c97986-9d88-4bbf-9fea-8ad4b8204159",
   "metadata": {},
   "outputs": [
    {
     "data": {
      "text/plain": [
       "str"
      ]
     },
     "execution_count": 13,
     "metadata": {},
     "output_type": "execute_result"
    }
   ],
   "source": [
    "var2 = '[ DS , ML , Python]'\n",
    "type(var2)"
   ]
  },
  {
   "cell_type": "code",
   "execution_count": 14,
   "id": "9ae219a1-3e98-40ea-a38e-7a3760728bc4",
   "metadata": {},
   "outputs": [
    {
     "data": {
      "text/plain": [
       "list"
      ]
     },
     "execution_count": 14,
     "metadata": {},
     "output_type": "execute_result"
    }
   ],
   "source": [
    "var3 = [ 'DS' , 'ML' , 'Python' ]\n",
    "type(var3)"
   ]
  },
  {
   "cell_type": "code",
   "execution_count": 16,
   "id": "8fa6eb42-6cb7-464e-b8a9-c2f3577027bc",
   "metadata": {},
   "outputs": [
    {
     "data": {
      "text/plain": [
       "float"
      ]
     },
     "execution_count": 16,
     "metadata": {},
     "output_type": "execute_result"
    }
   ],
   "source": [
    "var4 = 1.\n",
    "type(var4)"
   ]
  },
  {
   "cell_type": "markdown",
   "id": "21567be4-3d06-44cd-99a5-9a93bab50fe7",
   "metadata": {},
   "source": [
    "Q3. Explain the use of the following operators using an example:\n",
    "(i) /\n",
    "(ii) %\n",
    "(iii) //\n",
    "(iv) **"
   ]
  },
  {
   "cell_type": "code",
   "execution_count": 20,
   "id": "dcbdda42-8eb3-44a2-9294-22bab5f9f5c4",
   "metadata": {},
   "outputs": [
    {
     "name": "stdout",
     "output_type": "stream",
     "text": [
      "2.0\n"
     ]
    }
   ],
   "source": [
    "a = 10\n",
    "b = 20"
   ]
  },
  {
   "cell_type": "code",
   "execution_count": 22,
   "id": "430538ed-22d4-4e4d-9295-b8af7aa9be49",
   "metadata": {},
   "outputs": [
    {
     "name": "stdout",
     "output_type": "stream",
     "text": [
      "2.0\n"
     ]
    }
   ],
   "source": [
    "c = b / a\n",
    "print(c)"
   ]
  },
  {
   "cell_type": "code",
   "execution_count": 23,
   "id": "f2a4eace-4f37-471e-8041-d4466e250b48",
   "metadata": {},
   "outputs": [
    {
     "name": "stdout",
     "output_type": "stream",
     "text": [
      "2.0\n"
     ]
    }
   ],
   "source": [
    "d = b % a\n",
    "print(c)"
   ]
  },
  {
   "cell_type": "code",
   "execution_count": 25,
   "id": "996ed446-d607-46e8-ab69-5cd0195eb5dc",
   "metadata": {},
   "outputs": [
    {
     "name": "stdout",
     "output_type": "stream",
     "text": [
      "2\n"
     ]
    }
   ],
   "source": [
    "e = b // a\n",
    "print(e)"
   ]
  },
  {
   "cell_type": "code",
   "execution_count": 29,
   "id": "db48ca8e-e61a-4ebd-b3fb-1a07c1808d64",
   "metadata": {},
   "outputs": [
    {
     "name": "stdout",
     "output_type": "stream",
     "text": [
      "100000000000000000000\n"
     ]
    }
   ],
   "source": [
    "f = a**b\n",
    "print(f)"
   ]
  },
  {
   "cell_type": "markdown",
   "id": "b0f431e4-f028-401e-b8d7-e15bcc82ccb4",
   "metadata": {},
   "source": [
    "Q4. Create a list of length 10 of your choice containing multiple types of data. Using for loop print the\n",
    "element and its data type."
   ]
  },
  {
   "cell_type": "code",
   "execution_count": 31,
   "id": "67f16fff-a11b-4b98-b58e-9066c8e7de39",
   "metadata": {},
   "outputs": [
    {
     "name": "stdout",
     "output_type": "stream",
     "text": [
      "<class 'int'>\n",
      "<class 'int'>\n",
      "<class 'int'>\n",
      "<class 'int'>\n",
      "<class 'float'>\n",
      "<class 'float'>\n",
      "<class 'str'>\n",
      "<class 'bool'>\n",
      "<class 'bool'>\n",
      "<class 'str'>\n"
     ]
    }
   ],
   "source": [
    "l = [1,2,3,4,5.6,7.8,\"Vaish\",True,False,\"Sumit\"]\n",
    "for i in l:\n",
    "    print(type(i))"
   ]
  },
  {
   "cell_type": "markdown",
   "id": "60a146eb-f451-4210-8d4a-6f1d8a60a145",
   "metadata": {},
   "source": [
    "Q5. Using a while loop, verify if the number A is purely divisible by number B and if so then how many\n",
    "times it can be divisible."
   ]
  },
  {
   "cell_type": "code",
   "execution_count": 1,
   "id": "fb1512d9-5153-4a02-a42f-0e2488f70850",
   "metadata": {},
   "outputs": [
    {
     "name": "stdin",
     "output_type": "stream",
     "text": [
      "Enter the dividend (A):  40\n",
      "Enter the divisor (B):  2\n"
     ]
    },
    {
     "name": "stdout",
     "output_type": "stream",
     "text": [
      "5 is purely divisible by 2 and can be divided 3 times.\n"
     ]
    }
   ],
   "source": [
    "A = int(input(\"Enter the dividend (A): \"))\n",
    "B = int(input(\"Enter the divisor (B): \"))\n",
    "count = 0\n",
    "\n",
    "\n",
    "while A % B == 0:\n",
    "    count += 1\n",
    "    A //= B  # Integer division to update A\n",
    "\n",
    "if count > 0:\n",
    "    print(f\"{A} is purely divisible by {B} and can be divided {count} times.\")\n",
    "else:\n",
    "    print(f\"{A} is not purely divisible by {B}.\")"
   ]
  },
  {
   "cell_type": "markdown",
   "id": "da742cc0-a137-4e3a-bb3b-cfe389f8c3a5",
   "metadata": {},
   "source": [
    "Q6.Create a list containing 25 int type data. Using for loop and if-else condition print if the element is\n",
    "divisible by 3 or not."
   ]
  },
  {
   "cell_type": "code",
   "execution_count": 19,
   "id": "7d71ba18-1176-4c84-9377-309e1bea4887",
   "metadata": {},
   "outputs": [
    {
     "name": "stdout",
     "output_type": "stream",
     "text": [
      "It is not Divisible by 3\n",
      "It is not Divisible by 3\n",
      "3  It is divisible by 3\n",
      "It is not Divisible by 3\n",
      "It is not Divisible by 3\n",
      "6  It is divisible by 3\n",
      "It is not Divisible by 3\n",
      "It is not Divisible by 3\n",
      "9  It is divisible by 3\n",
      "It is not Divisible by 3\n",
      "It is not Divisible by 3\n",
      "12  It is divisible by 3\n",
      "It is not Divisible by 3\n",
      "It is not Divisible by 3\n",
      "15  It is divisible by 3\n",
      "It is not Divisible by 3\n",
      "It is not Divisible by 3\n",
      "18  It is divisible by 3\n",
      "It is not Divisible by 3\n",
      "It is not Divisible by 3\n",
      "21  It is divisible by 3\n",
      "It is not Divisible by 3\n",
      "It is not Divisible by 3\n",
      "24  It is divisible by 3\n",
      "It is not Divisible by 3\n"
     ]
    }
   ],
   "source": [
    "l=[1,2,3,4,5,6,7,8,9,10,11,12,13,14,15,16,17,18,19,20,21,22,23,24,35]\n",
    "for i in l:\n",
    "    if i % 3 == 0 :\n",
    "        print(i,\" It is divisible by 3\")\n",
    "    else:\n",
    "        print(\"It is not Divisible by 3\")"
   ]
  },
  {
   "cell_type": "markdown",
   "id": "ebcb86e6-99e4-4c21-a813-d930daf828c6",
   "metadata": {},
   "source": [
    "Q7. What do you understand about mutable and immutable data types? Give examples for both showing\n",
    "this property."
   ]
  },
  {
   "cell_type": "code",
   "execution_count": 3,
   "id": "a378cfec-9a57-48df-80b5-f07fef0f379a",
   "metadata": {},
   "outputs": [
    {
     "data": {
      "text/plain": [
       "str"
      ]
     },
     "execution_count": 3,
     "metadata": {},
     "output_type": "execute_result"
    }
   ],
   "source": [
    "#immutable\n",
    "v = \"vaishnavi\"\n",
    "type(v)"
   ]
  },
  {
   "cell_type": "code",
   "execution_count": 4,
   "id": "741568df-3ea4-4487-be5e-835516ec66cc",
   "metadata": {},
   "outputs": [
    {
     "data": {
      "text/plain": [
       "'vaishnavi'"
      ]
     },
     "execution_count": 4,
     "metadata": {},
     "output_type": "execute_result"
    }
   ],
   "source": [
    "v[0:9]"
   ]
  },
  {
   "cell_type": "code",
   "execution_count": 16,
   "id": "622368b8-b102-4a05-ab4a-ce6a983c3b19",
   "metadata": {},
   "outputs": [
    {
     "ename": "TypeError",
     "evalue": "'str' object does not support item assignment",
     "output_type": "error",
     "traceback": [
      "\u001b[0;31m---------------------------------------------------------------------------\u001b[0m",
      "\u001b[0;31mTypeError\u001b[0m                                 Traceback (most recent call last)",
      "Cell \u001b[0;32mIn[16], line 1\u001b[0m\n\u001b[0;32m----> 1\u001b[0m \u001b[43mv\u001b[49m\u001b[43m[\u001b[49m\u001b[38;5;241;43m1\u001b[39;49m\u001b[43m]\u001b[49m \u001b[38;5;241m=\u001b[39m \u001b[38;5;241m2\u001b[39m\n",
      "\u001b[0;31mTypeError\u001b[0m: 'str' object does not support item assignment"
     ]
    }
   ],
   "source": [
    "v[1] = 2 #string is "
   ]
  },
  {
   "cell_type": "code",
   "execution_count": 7,
   "id": "022c6347-2a84-44f8-8dc8-62aa4482ab7a",
   "metadata": {},
   "outputs": [],
   "source": [
    "#immutable\n",
    "l = [1,2,3,4,\"VAishnavi\",True,0]"
   ]
  },
  {
   "cell_type": "code",
   "execution_count": 8,
   "id": "ddfc4963-9ddf-4709-89d2-9141e98d4d28",
   "metadata": {},
   "outputs": [
    {
     "data": {
      "text/plain": [
       "1"
      ]
     },
     "execution_count": 8,
     "metadata": {},
     "output_type": "execute_result"
    }
   ],
   "source": [
    "l[0]"
   ]
  },
  {
   "cell_type": "code",
   "execution_count": 9,
   "id": "20f1aea7-a4a5-4406-a6fa-6e8137e3ca0c",
   "metadata": {},
   "outputs": [
    {
     "data": {
      "text/plain": [
       "'VAishnavi'"
      ]
     },
     "execution_count": 9,
     "metadata": {},
     "output_type": "execute_result"
    }
   ],
   "source": [
    "l[4]"
   ]
  },
  {
   "cell_type": "code",
   "execution_count": 12,
   "id": "7406ae33-dfc5-495b-843d-d999289d7fe0",
   "metadata": {},
   "outputs": [],
   "source": [
    "l[4] = \"Sumit\""
   ]
  },
  {
   "cell_type": "code",
   "execution_count": 13,
   "id": "99fff530-5aff-46dd-aea2-bf2b7591360d",
   "metadata": {},
   "outputs": [],
   "source": [
    "l[5] = False"
   ]
  },
  {
   "cell_type": "code",
   "execution_count": 14,
   "id": "b929c5fa-11b3-4738-8429-a6211bbb8475",
   "metadata": {},
   "outputs": [
    {
     "data": {
      "text/plain": [
       "[1, 2, 3, 4, 'Sumit', False, 0]"
      ]
     },
     "execution_count": 14,
     "metadata": {},
     "output_type": "execute_result"
    }
   ],
   "source": [
    "l"
   ]
  }
 ],
 "metadata": {
  "kernelspec": {
   "display_name": "Python 3 (ipykernel)",
   "language": "python",
   "name": "python3"
  },
  "language_info": {
   "codemirror_mode": {
    "name": "ipython",
    "version": 3
   },
   "file_extension": ".py",
   "mimetype": "text/x-python",
   "name": "python",
   "nbconvert_exporter": "python",
   "pygments_lexer": "ipython3",
   "version": "3.10.8"
  }
 },
 "nbformat": 4,
 "nbformat_minor": 5
}
